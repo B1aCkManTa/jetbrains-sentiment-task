{
  "cells": [
    {
      "cell_type": "markdown",
      "metadata": {
        "id": "view-in-github",
        "colab_type": "text"
      },
      "source": [
        "<a href=\"https://colab.research.google.com/github/B1aCkManTa/jetbrains-sentiment-task/blob/main/task_jetbrains.ipynb\" target=\"_parent\"><img src=\"https://colab.research.google.com/assets/colab-badge.svg\" alt=\"Open In Colab\"/></a>"
      ]
    },
    {
      "cell_type": "markdown",
      "source": [
        "## Importing necessary libraries\n",
        "\n"
      ],
      "metadata": {
        "id": "lP9I6ve9wUnC"
      }
    },
    {
      "cell_type": "code",
      "source": [
        "!pip install num2words"
      ],
      "metadata": {
        "colab": {
          "base_uri": "https://localhost:8080/"
        },
        "id": "3vUJXD95_6eU",
        "outputId": "2e835b4f-679f-4809-df34-e2715af7010a"
      },
      "execution_count": 1,
      "outputs": [
        {
          "output_type": "stream",
          "name": "stdout",
          "text": [
            "Looking in indexes: https://pypi.org/simple, https://us-python.pkg.dev/colab-wheels/public/simple/\n",
            "Requirement already satisfied: num2words in /usr/local/lib/python3.9/dist-packages (0.5.12)\n",
            "Requirement already satisfied: docopt>=0.6.2 in /usr/local/lib/python3.9/dist-packages (from num2words) (0.6.2)\n"
          ]
        }
      ]
    },
    {
      "cell_type": "code",
      "execution_count": 2,
      "metadata": {
        "id": "wZiU-F7vnkA0"
      },
      "outputs": [],
      "source": [
        "import nltk\n",
        "from nltk.corpus import stopwords\n",
        "\n",
        "import inflect\n",
        "\n",
        "import pandas as pd\n",
        "\n",
        "import gspread\n",
        "from textblob import Word\n",
        "from google.colab import auth\n",
        "from google.auth import default\n",
        "\n",
        "from keras.optimizers import Adam\n",
        "from keras.models import Sequential\n",
        "from keras.utils import pad_sequences\n",
        "from keras.preprocessing.text import Tokenizer\n",
        "from keras.layers import Dense, Embedding, LSTM, SpatialDropout1D, Dropout\n",
        "\n",
        "from sklearn.preprocessing import LabelEncoder\n",
        "from sklearn.model_selection import train_test_split, KFold\n",
        "from sklearn.metrics import classification_report,confusion_matrix,accuracy_score\n"
      ]
    },
    {
      "cell_type": "code",
      "source": [
        "# Download the stopwords and wordnet corpus from NLTK\n",
        "nltk.download('stopwords')\n",
        "nltk.download('wordnet')"
      ],
      "metadata": {
        "colab": {
          "base_uri": "https://localhost:8080/"
        },
        "id": "b_jSMEO9w50d",
        "outputId": "881eabe0-b134-44ac-ac26-96993faeb09c"
      },
      "execution_count": 3,
      "outputs": [
        {
          "output_type": "stream",
          "name": "stderr",
          "text": [
            "[nltk_data] Downloading package stopwords to /root/nltk_data...\n",
            "[nltk_data]   Package stopwords is already up-to-date!\n",
            "[nltk_data] Downloading package wordnet to /root/nltk_data...\n",
            "[nltk_data]   Package wordnet is already up-to-date!\n"
          ]
        },
        {
          "output_type": "execute_result",
          "data": {
            "text/plain": [
              "True"
            ]
          },
          "metadata": {},
          "execution_count": 3
        }
      ]
    },
    {
      "cell_type": "markdown",
      "source": [
        "## Loading the dataset"
      ],
      "metadata": {
        "id": "vmcHsOOMwkt4"
      }
    },
    {
      "cell_type": "code",
      "execution_count": 4,
      "metadata": {
        "id": "7Dr084xRuCnr"
      },
      "outputs": [],
      "source": [
        "url = 'https://raw.githubusercontent.com/B1aCkManTa/jetbrains-sentiment-task/main/fb_sentiment.csv'\n",
        "df = pd.read_csv(url)\n",
        "\n",
        "df = df.iloc[:,1:]      # Removes the first column of the DataFrame\n",
        "df.columns = ['FBPost', 'Label']  # Sets the column names of the DataFrame to 'FBPost' and 'Label'"
      ]
    },
    {
      "cell_type": "code",
      "execution_count": 5,
      "metadata": {
        "colab": {
          "base_uri": "https://localhost:8080/",
          "height": 423
        },
        "id": "UYODhYk6xBrv",
        "outputId": "c701ea98-7c82-45ef-88f0-db8c8f707bde"
      },
      "outputs": [
        {
          "output_type": "execute_result",
          "data": {
            "text/plain": [
              "                                                FBPost Label\n",
              "0    Drug Runners and  a U.S. Senator have somethin...     O\n",
              "1    Heres a single, to add, to Kindle. Just read t...     O\n",
              "2    If you tire of Non-Fiction.. Check out http://...     O\n",
              "3      Ghost of Round Island is supposedly nonfiction.     O\n",
              "4    Why is Barnes and Nobles version of the Kindle...     N\n",
              "..                                                 ...   ...\n",
              "995  I liked it.  Its youth oriented and I think th...     P\n",
              "996  I think the point of the commercial is that, e...     P\n",
              "997  Kindle 3 is such a great product. I could not ...     P\n",
              "998  develop a way to share books!  that is a big d...     N\n",
              "999                               I love my kindle! =)     P\n",
              "\n",
              "[1000 rows x 2 columns]"
            ],
            "text/html": [
              "\n",
              "  <div id=\"df-9ae5252a-6015-477e-a1f7-a6605729ed01\">\n",
              "    <div class=\"colab-df-container\">\n",
              "      <div>\n",
              "<style scoped>\n",
              "    .dataframe tbody tr th:only-of-type {\n",
              "        vertical-align: middle;\n",
              "    }\n",
              "\n",
              "    .dataframe tbody tr th {\n",
              "        vertical-align: top;\n",
              "    }\n",
              "\n",
              "    .dataframe thead th {\n",
              "        text-align: right;\n",
              "    }\n",
              "</style>\n",
              "<table border=\"1\" class=\"dataframe\">\n",
              "  <thead>\n",
              "    <tr style=\"text-align: right;\">\n",
              "      <th></th>\n",
              "      <th>FBPost</th>\n",
              "      <th>Label</th>\n",
              "    </tr>\n",
              "  </thead>\n",
              "  <tbody>\n",
              "    <tr>\n",
              "      <th>0</th>\n",
              "      <td>Drug Runners and  a U.S. Senator have somethin...</td>\n",
              "      <td>O</td>\n",
              "    </tr>\n",
              "    <tr>\n",
              "      <th>1</th>\n",
              "      <td>Heres a single, to add, to Kindle. Just read t...</td>\n",
              "      <td>O</td>\n",
              "    </tr>\n",
              "    <tr>\n",
              "      <th>2</th>\n",
              "      <td>If you tire of Non-Fiction.. Check out http://...</td>\n",
              "      <td>O</td>\n",
              "    </tr>\n",
              "    <tr>\n",
              "      <th>3</th>\n",
              "      <td>Ghost of Round Island is supposedly nonfiction.</td>\n",
              "      <td>O</td>\n",
              "    </tr>\n",
              "    <tr>\n",
              "      <th>4</th>\n",
              "      <td>Why is Barnes and Nobles version of the Kindle...</td>\n",
              "      <td>N</td>\n",
              "    </tr>\n",
              "    <tr>\n",
              "      <th>...</th>\n",
              "      <td>...</td>\n",
              "      <td>...</td>\n",
              "    </tr>\n",
              "    <tr>\n",
              "      <th>995</th>\n",
              "      <td>I liked it.  Its youth oriented and I think th...</td>\n",
              "      <td>P</td>\n",
              "    </tr>\n",
              "    <tr>\n",
              "      <th>996</th>\n",
              "      <td>I think the point of the commercial is that, e...</td>\n",
              "      <td>P</td>\n",
              "    </tr>\n",
              "    <tr>\n",
              "      <th>997</th>\n",
              "      <td>Kindle 3 is such a great product. I could not ...</td>\n",
              "      <td>P</td>\n",
              "    </tr>\n",
              "    <tr>\n",
              "      <th>998</th>\n",
              "      <td>develop a way to share books!  that is a big d...</td>\n",
              "      <td>N</td>\n",
              "    </tr>\n",
              "    <tr>\n",
              "      <th>999</th>\n",
              "      <td>I love my kindle! =)</td>\n",
              "      <td>P</td>\n",
              "    </tr>\n",
              "  </tbody>\n",
              "</table>\n",
              "<p>1000 rows × 2 columns</p>\n",
              "</div>\n",
              "      <button class=\"colab-df-convert\" onclick=\"convertToInteractive('df-9ae5252a-6015-477e-a1f7-a6605729ed01')\"\n",
              "              title=\"Convert this dataframe to an interactive table.\"\n",
              "              style=\"display:none;\">\n",
              "        \n",
              "  <svg xmlns=\"http://www.w3.org/2000/svg\" height=\"24px\"viewBox=\"0 0 24 24\"\n",
              "       width=\"24px\">\n",
              "    <path d=\"M0 0h24v24H0V0z\" fill=\"none\"/>\n",
              "    <path d=\"M18.56 5.44l.94 2.06.94-2.06 2.06-.94-2.06-.94-.94-2.06-.94 2.06-2.06.94zm-11 1L8.5 8.5l.94-2.06 2.06-.94-2.06-.94L8.5 2.5l-.94 2.06-2.06.94zm10 10l.94 2.06.94-2.06 2.06-.94-2.06-.94-.94-2.06-.94 2.06-2.06.94z\"/><path d=\"M17.41 7.96l-1.37-1.37c-.4-.4-.92-.59-1.43-.59-.52 0-1.04.2-1.43.59L10.3 9.45l-7.72 7.72c-.78.78-.78 2.05 0 2.83L4 21.41c.39.39.9.59 1.41.59.51 0 1.02-.2 1.41-.59l7.78-7.78 2.81-2.81c.8-.78.8-2.07 0-2.86zM5.41 20L4 18.59l7.72-7.72 1.47 1.35L5.41 20z\"/>\n",
              "  </svg>\n",
              "      </button>\n",
              "      \n",
              "  <style>\n",
              "    .colab-df-container {\n",
              "      display:flex;\n",
              "      flex-wrap:wrap;\n",
              "      gap: 12px;\n",
              "    }\n",
              "\n",
              "    .colab-df-convert {\n",
              "      background-color: #E8F0FE;\n",
              "      border: none;\n",
              "      border-radius: 50%;\n",
              "      cursor: pointer;\n",
              "      display: none;\n",
              "      fill: #1967D2;\n",
              "      height: 32px;\n",
              "      padding: 0 0 0 0;\n",
              "      width: 32px;\n",
              "    }\n",
              "\n",
              "    .colab-df-convert:hover {\n",
              "      background-color: #E2EBFA;\n",
              "      box-shadow: 0px 1px 2px rgba(60, 64, 67, 0.3), 0px 1px 3px 1px rgba(60, 64, 67, 0.15);\n",
              "      fill: #174EA6;\n",
              "    }\n",
              "\n",
              "    [theme=dark] .colab-df-convert {\n",
              "      background-color: #3B4455;\n",
              "      fill: #D2E3FC;\n",
              "    }\n",
              "\n",
              "    [theme=dark] .colab-df-convert:hover {\n",
              "      background-color: #434B5C;\n",
              "      box-shadow: 0px 1px 3px 1px rgba(0, 0, 0, 0.15);\n",
              "      filter: drop-shadow(0px 1px 2px rgba(0, 0, 0, 0.3));\n",
              "      fill: #FFFFFF;\n",
              "    }\n",
              "  </style>\n",
              "\n",
              "      <script>\n",
              "        const buttonEl =\n",
              "          document.querySelector('#df-9ae5252a-6015-477e-a1f7-a6605729ed01 button.colab-df-convert');\n",
              "        buttonEl.style.display =\n",
              "          google.colab.kernel.accessAllowed ? 'block' : 'none';\n",
              "\n",
              "        async function convertToInteractive(key) {\n",
              "          const element = document.querySelector('#df-9ae5252a-6015-477e-a1f7-a6605729ed01');\n",
              "          const dataTable =\n",
              "            await google.colab.kernel.invokeFunction('convertToInteractive',\n",
              "                                                     [key], {});\n",
              "          if (!dataTable) return;\n",
              "\n",
              "          const docLinkHtml = 'Like what you see? Visit the ' +\n",
              "            '<a target=\"_blank\" href=https://colab.research.google.com/notebooks/data_table.ipynb>data table notebook</a>'\n",
              "            + ' to learn more about interactive tables.';\n",
              "          element.innerHTML = '';\n",
              "          dataTable['output_type'] = 'display_data';\n",
              "          await google.colab.output.renderOutput(dataTable, element);\n",
              "          const docLink = document.createElement('div');\n",
              "          docLink.innerHTML = docLinkHtml;\n",
              "          element.appendChild(docLink);\n",
              "        }\n",
              "      </script>\n",
              "    </div>\n",
              "  </div>\n",
              "  "
            ]
          },
          "metadata": {},
          "execution_count": 5
        }
      ],
      "source": [
        "df"
      ]
    },
    {
      "cell_type": "markdown",
      "source": [
        "## Pre-Processing the text "
      ],
      "metadata": {
        "id": "R6yYl0iCwqpE"
      }
    },
    {
      "cell_type": "code",
      "execution_count": 6,
      "metadata": {
        "colab": {
          "base_uri": "https://localhost:8080/"
        },
        "id": "K4Q-J-9gtQiS",
        "outputId": "32de1d4e-4517-4146-bc2b-a0c9cf1b9084"
      },
      "outputs": [
        {
          "output_type": "stream",
          "name": "stdout",
          "text": [
            "['i', 'me', 'my', 'myself', 'we', 'our', 'ours', 'ourselves', 'you', \"you're\", \"you've\", \"you'll\", \"you'd\", 'your', 'yours', 'yourself', 'yourselves', 'he', 'him', 'his', 'himself', 'she', \"she's\", 'her', 'hers', 'herself', 'it', \"it's\", 'its', 'itself', 'they', 'them', 'their', 'theirs', 'themselves', 'what', 'which', 'who', 'whom', 'this', 'that', \"that'll\", 'these', 'those', 'am', 'is', 'are', 'was', 'were', 'be', 'been', 'being', 'have', 'has', 'had', 'having', 'do', 'does', 'did', 'doing', 'a', 'an', 'the', 'and', 'but', 'if', 'or', 'because', 'as', 'until', 'while', 'of', 'at', 'by', 'for', 'with', 'about', 'against', 'between', 'into', 'through', 'during', 'before', 'after', 'above', 'below', 'to', 'from', 'up', 'down', 'in', 'out', 'on', 'off', 'over', 'under', 'again', 'further', 'then', 'once', 'here', 'there', 'when', 'where', 'why', 'how', 'all', 'any', 'both', 'each', 'few', 'more', 'most', 'other', 'some', 'such', 'no', 'nor', 'not', 'only', 'own', 'same', 'so', 'than', 'too', 'very', 's', 't', 'can', 'will', 'just', 'don', \"don't\", 'should', \"should've\", 'now', 'd', 'll', 'm', 'o', 're', 've', 'y', 'ain', 'aren', \"aren't\", 'couldn', \"couldn't\", 'didn', \"didn't\", 'doesn', \"doesn't\", 'hadn', \"hadn't\", 'hasn', \"hasn't\", 'haven', \"haven't\", 'isn', \"isn't\", 'ma', 'mightn', \"mightn't\", 'mustn', \"mustn't\", 'needn', \"needn't\", 'shan', \"shan't\", 'shouldn', \"shouldn't\", 'wasn', \"wasn't\", 'weren', \"weren't\", 'won', \"won't\", 'wouldn', \"wouldn't\"]\n"
          ]
        }
      ],
      "source": [
        "# Define a function to clean the text data\n",
        "from num2words import num2words\n",
        "\n",
        "def replace_numbers_with_words(text):\n",
        "    words = text.split()\n",
        "    for i, word in enumerate(words):\n",
        "        if word.isnumeric():\n",
        "            words[i] = num2words(int(word))\n",
        "    return ' '.join(words)\n",
        "    \n",
        "def cleaning(df, column, stop_words):\n",
        "    # Convert the text to lowercase\n",
        "    df[column] = df[column].apply(lambda x: ' '.join(x.lower() for x in x.split()))\n",
        "    # Replace numbers with words\n",
        "    df[column] = df[column].apply(replace_numbers_with_words)\n",
        "    # Remove stop words\n",
        "    df[column] = df[column].apply(lambda x: ' '.join(x for x in x.split() if x not in stop_words))\n",
        "    # Lemmatize the text\n",
        "    df[column] = df[column].apply(lambda x: ' '.join([Word(x).lemmatize() for x in x.split()]))\n",
        "    # Return the cleaned DataFrame\n",
        "    return df\n",
        "\n",
        "\n",
        "# Get the list of English stop words\n",
        "stop_words = stopwords.words('english')\n",
        "\n",
        "# Print the list of stop words\n",
        "print(stop_words)\n"
      ]
    },
    {
      "cell_type": "code",
      "execution_count": 7,
      "metadata": {
        "colab": {
          "base_uri": "https://localhost:8080/",
          "height": 423
        },
        "id": "jBU63BhVAN7G",
        "outputId": "244ff3e2-0490-40fa-f0ea-6358bfd47de4"
      },
      "outputs": [
        {
          "output_type": "execute_result",
          "data": {
            "text/plain": [
              "                                                FBPost Label\n",
              "0    drug runner u.s. senator something murder http...     O\n",
              "1    here single, add, kindle. read 19th century st...     O\n",
              "2    tire non-fiction.. check http://www.amazon.com...     O\n",
              "3            ghost round island supposedly nonfiction.     O\n",
              "4    barnes noble version kindle much expensive kin...     N\n",
              "..                                                 ...   ...\n",
              "995       liked it. youth oriented think widen appeal.     P\n",
              "996  think point commercial that, even border closi...     P\n",
              "997  kindle three great product. could happier mine...     P\n",
              "998  develop way share books! big drawback. love ki...     N\n",
              "999                                    love kindle! =)     P\n",
              "\n",
              "[1000 rows x 2 columns]"
            ],
            "text/html": [
              "\n",
              "  <div id=\"df-1a355b94-9ab6-49c4-b3b5-4a6c7d717b84\">\n",
              "    <div class=\"colab-df-container\">\n",
              "      <div>\n",
              "<style scoped>\n",
              "    .dataframe tbody tr th:only-of-type {\n",
              "        vertical-align: middle;\n",
              "    }\n",
              "\n",
              "    .dataframe tbody tr th {\n",
              "        vertical-align: top;\n",
              "    }\n",
              "\n",
              "    .dataframe thead th {\n",
              "        text-align: right;\n",
              "    }\n",
              "</style>\n",
              "<table border=\"1\" class=\"dataframe\">\n",
              "  <thead>\n",
              "    <tr style=\"text-align: right;\">\n",
              "      <th></th>\n",
              "      <th>FBPost</th>\n",
              "      <th>Label</th>\n",
              "    </tr>\n",
              "  </thead>\n",
              "  <tbody>\n",
              "    <tr>\n",
              "      <th>0</th>\n",
              "      <td>drug runner u.s. senator something murder http...</td>\n",
              "      <td>O</td>\n",
              "    </tr>\n",
              "    <tr>\n",
              "      <th>1</th>\n",
              "      <td>here single, add, kindle. read 19th century st...</td>\n",
              "      <td>O</td>\n",
              "    </tr>\n",
              "    <tr>\n",
              "      <th>2</th>\n",
              "      <td>tire non-fiction.. check http://www.amazon.com...</td>\n",
              "      <td>O</td>\n",
              "    </tr>\n",
              "    <tr>\n",
              "      <th>3</th>\n",
              "      <td>ghost round island supposedly nonfiction.</td>\n",
              "      <td>O</td>\n",
              "    </tr>\n",
              "    <tr>\n",
              "      <th>4</th>\n",
              "      <td>barnes noble version kindle much expensive kin...</td>\n",
              "      <td>N</td>\n",
              "    </tr>\n",
              "    <tr>\n",
              "      <th>...</th>\n",
              "      <td>...</td>\n",
              "      <td>...</td>\n",
              "    </tr>\n",
              "    <tr>\n",
              "      <th>995</th>\n",
              "      <td>liked it. youth oriented think widen appeal.</td>\n",
              "      <td>P</td>\n",
              "    </tr>\n",
              "    <tr>\n",
              "      <th>996</th>\n",
              "      <td>think point commercial that, even border closi...</td>\n",
              "      <td>P</td>\n",
              "    </tr>\n",
              "    <tr>\n",
              "      <th>997</th>\n",
              "      <td>kindle three great product. could happier mine...</td>\n",
              "      <td>P</td>\n",
              "    </tr>\n",
              "    <tr>\n",
              "      <th>998</th>\n",
              "      <td>develop way share books! big drawback. love ki...</td>\n",
              "      <td>N</td>\n",
              "    </tr>\n",
              "    <tr>\n",
              "      <th>999</th>\n",
              "      <td>love kindle! =)</td>\n",
              "      <td>P</td>\n",
              "    </tr>\n",
              "  </tbody>\n",
              "</table>\n",
              "<p>1000 rows × 2 columns</p>\n",
              "</div>\n",
              "      <button class=\"colab-df-convert\" onclick=\"convertToInteractive('df-1a355b94-9ab6-49c4-b3b5-4a6c7d717b84')\"\n",
              "              title=\"Convert this dataframe to an interactive table.\"\n",
              "              style=\"display:none;\">\n",
              "        \n",
              "  <svg xmlns=\"http://www.w3.org/2000/svg\" height=\"24px\"viewBox=\"0 0 24 24\"\n",
              "       width=\"24px\">\n",
              "    <path d=\"M0 0h24v24H0V0z\" fill=\"none\"/>\n",
              "    <path d=\"M18.56 5.44l.94 2.06.94-2.06 2.06-.94-2.06-.94-.94-2.06-.94 2.06-2.06.94zm-11 1L8.5 8.5l.94-2.06 2.06-.94-2.06-.94L8.5 2.5l-.94 2.06-2.06.94zm10 10l.94 2.06.94-2.06 2.06-.94-2.06-.94-.94-2.06-.94 2.06-2.06.94z\"/><path d=\"M17.41 7.96l-1.37-1.37c-.4-.4-.92-.59-1.43-.59-.52 0-1.04.2-1.43.59L10.3 9.45l-7.72 7.72c-.78.78-.78 2.05 0 2.83L4 21.41c.39.39.9.59 1.41.59.51 0 1.02-.2 1.41-.59l7.78-7.78 2.81-2.81c.8-.78.8-2.07 0-2.86zM5.41 20L4 18.59l7.72-7.72 1.47 1.35L5.41 20z\"/>\n",
              "  </svg>\n",
              "      </button>\n",
              "      \n",
              "  <style>\n",
              "    .colab-df-container {\n",
              "      display:flex;\n",
              "      flex-wrap:wrap;\n",
              "      gap: 12px;\n",
              "    }\n",
              "\n",
              "    .colab-df-convert {\n",
              "      background-color: #E8F0FE;\n",
              "      border: none;\n",
              "      border-radius: 50%;\n",
              "      cursor: pointer;\n",
              "      display: none;\n",
              "      fill: #1967D2;\n",
              "      height: 32px;\n",
              "      padding: 0 0 0 0;\n",
              "      width: 32px;\n",
              "    }\n",
              "\n",
              "    .colab-df-convert:hover {\n",
              "      background-color: #E2EBFA;\n",
              "      box-shadow: 0px 1px 2px rgba(60, 64, 67, 0.3), 0px 1px 3px 1px rgba(60, 64, 67, 0.15);\n",
              "      fill: #174EA6;\n",
              "    }\n",
              "\n",
              "    [theme=dark] .colab-df-convert {\n",
              "      background-color: #3B4455;\n",
              "      fill: #D2E3FC;\n",
              "    }\n",
              "\n",
              "    [theme=dark] .colab-df-convert:hover {\n",
              "      background-color: #434B5C;\n",
              "      box-shadow: 0px 1px 3px 1px rgba(0, 0, 0, 0.15);\n",
              "      filter: drop-shadow(0px 1px 2px rgba(0, 0, 0, 0.3));\n",
              "      fill: #FFFFFF;\n",
              "    }\n",
              "  </style>\n",
              "\n",
              "      <script>\n",
              "        const buttonEl =\n",
              "          document.querySelector('#df-1a355b94-9ab6-49c4-b3b5-4a6c7d717b84 button.colab-df-convert');\n",
              "        buttonEl.style.display =\n",
              "          google.colab.kernel.accessAllowed ? 'block' : 'none';\n",
              "\n",
              "        async function convertToInteractive(key) {\n",
              "          const element = document.querySelector('#df-1a355b94-9ab6-49c4-b3b5-4a6c7d717b84');\n",
              "          const dataTable =\n",
              "            await google.colab.kernel.invokeFunction('convertToInteractive',\n",
              "                                                     [key], {});\n",
              "          if (!dataTable) return;\n",
              "\n",
              "          const docLinkHtml = 'Like what you see? Visit the ' +\n",
              "            '<a target=\"_blank\" href=https://colab.research.google.com/notebooks/data_table.ipynb>data table notebook</a>'\n",
              "            + ' to learn more about interactive tables.';\n",
              "          element.innerHTML = '';\n",
              "          dataTable['output_type'] = 'display_data';\n",
              "          await google.colab.output.renderOutput(dataTable, element);\n",
              "          const docLink = document.createElement('div');\n",
              "          docLink.innerHTML = docLinkHtml;\n",
              "          element.appendChild(docLink);\n",
              "        }\n",
              "      </script>\n",
              "    </div>\n",
              "  </div>\n",
              "  "
            ]
          },
          "metadata": {},
          "execution_count": 7
        }
      ],
      "source": [
        "# Clean the text data using the cleaning function\n",
        "data_cleaned = cleaning(df, \"FBPost\", stop_words)\n",
        "data_cleaned"
      ]
    },
    {
      "cell_type": "markdown",
      "source": [
        "## Generating Embeddings using tokenizer"
      ],
      "metadata": {
        "id": "nmrwB_7XxN2R"
      }
    },
    {
      "cell_type": "code",
      "execution_count": 8,
      "metadata": {
        "id": "5ab5tYWNtSVH"
      },
      "outputs": [],
      "source": [
        "# Define the maximum number of words to keep\n",
        "num_words = 500\n",
        "\n",
        "# Define the tokenizer\n",
        "tokenizer = Tokenizer(num_words=num_words, split=' ')\n",
        "\n",
        "# Fit the tokenizer on the text data\n",
        "tokenizer.fit_on_texts(data_cleaned['FBPost'].values)\n",
        "\n",
        "# Convert the text data to sequences of integers\n",
        "X = tokenizer.texts_to_sequences(data_cleaned['FBPost'].values)\n",
        "\n",
        "# Pad the sequences to have the same length\n",
        "X = pad_sequences(X)\n",
        "\n",
        "# Perform one-hot encoding on the 'Label' column\n",
        "one_hot = pd.get_dummies(data_cleaned['Label'])\n"
      ]
    },
    {
      "cell_type": "code",
      "execution_count": 9,
      "metadata": {
        "colab": {
          "base_uri": "https://localhost:8080/"
        },
        "id": "H3dRJS5hBJUt",
        "outputId": "3f646712-7a5f-4add-fd10-c398ea1099d1"
      },
      "outputs": [
        {
          "output_type": "stream",
          "name": "stdout",
          "text": [
            "(1000, 92)\n"
          ]
        },
        {
          "output_type": "execute_result",
          "data": {
            "text/plain": [
              "array([[  0,   0,   0, ...,   9, 240, 165],\n",
              "       [  0,   0,   0, ..., 243, 335,  94],\n",
              "       [  0,   0,   0, ..., 419, 420, 420],\n",
              "       ...,\n",
              "       [  0,   0,   0, ..., 405,  45,  28],\n",
              "       [  0,   0,   0, ...,  32, 308,   3],\n",
              "       [  0,   0,   0, ...,   0,   2,   1]], dtype=int32)"
            ]
          },
          "metadata": {},
          "execution_count": 9
        }
      ],
      "source": [
        "print(X.shape)\n",
        "\n",
        "X"
      ]
    },
    {
      "cell_type": "code",
      "execution_count": 10,
      "metadata": {
        "colab": {
          "base_uri": "https://localhost:8080/",
          "height": 441
        },
        "id": "eDWSzCkQFCnT",
        "outputId": "cdcfbd97-e106-4d0b-d1b2-b00e4001caab"
      },
      "outputs": [
        {
          "output_type": "stream",
          "name": "stdout",
          "text": [
            "(1000, 3)\n"
          ]
        },
        {
          "output_type": "execute_result",
          "data": {
            "text/plain": [
              "     N  O  P\n",
              "0    0  1  0\n",
              "1    0  1  0\n",
              "2    0  1  0\n",
              "3    0  1  0\n",
              "4    1  0  0\n",
              "..  .. .. ..\n",
              "995  0  0  1\n",
              "996  0  0  1\n",
              "997  0  0  1\n",
              "998  1  0  0\n",
              "999  0  0  1\n",
              "\n",
              "[1000 rows x 3 columns]"
            ],
            "text/html": [
              "\n",
              "  <div id=\"df-3ee5be8d-27be-4364-a1be-dc7653620169\">\n",
              "    <div class=\"colab-df-container\">\n",
              "      <div>\n",
              "<style scoped>\n",
              "    .dataframe tbody tr th:only-of-type {\n",
              "        vertical-align: middle;\n",
              "    }\n",
              "\n",
              "    .dataframe tbody tr th {\n",
              "        vertical-align: top;\n",
              "    }\n",
              "\n",
              "    .dataframe thead th {\n",
              "        text-align: right;\n",
              "    }\n",
              "</style>\n",
              "<table border=\"1\" class=\"dataframe\">\n",
              "  <thead>\n",
              "    <tr style=\"text-align: right;\">\n",
              "      <th></th>\n",
              "      <th>N</th>\n",
              "      <th>O</th>\n",
              "      <th>P</th>\n",
              "    </tr>\n",
              "  </thead>\n",
              "  <tbody>\n",
              "    <tr>\n",
              "      <th>0</th>\n",
              "      <td>0</td>\n",
              "      <td>1</td>\n",
              "      <td>0</td>\n",
              "    </tr>\n",
              "    <tr>\n",
              "      <th>1</th>\n",
              "      <td>0</td>\n",
              "      <td>1</td>\n",
              "      <td>0</td>\n",
              "    </tr>\n",
              "    <tr>\n",
              "      <th>2</th>\n",
              "      <td>0</td>\n",
              "      <td>1</td>\n",
              "      <td>0</td>\n",
              "    </tr>\n",
              "    <tr>\n",
              "      <th>3</th>\n",
              "      <td>0</td>\n",
              "      <td>1</td>\n",
              "      <td>0</td>\n",
              "    </tr>\n",
              "    <tr>\n",
              "      <th>4</th>\n",
              "      <td>1</td>\n",
              "      <td>0</td>\n",
              "      <td>0</td>\n",
              "    </tr>\n",
              "    <tr>\n",
              "      <th>...</th>\n",
              "      <td>...</td>\n",
              "      <td>...</td>\n",
              "      <td>...</td>\n",
              "    </tr>\n",
              "    <tr>\n",
              "      <th>995</th>\n",
              "      <td>0</td>\n",
              "      <td>0</td>\n",
              "      <td>1</td>\n",
              "    </tr>\n",
              "    <tr>\n",
              "      <th>996</th>\n",
              "      <td>0</td>\n",
              "      <td>0</td>\n",
              "      <td>1</td>\n",
              "    </tr>\n",
              "    <tr>\n",
              "      <th>997</th>\n",
              "      <td>0</td>\n",
              "      <td>0</td>\n",
              "      <td>1</td>\n",
              "    </tr>\n",
              "    <tr>\n",
              "      <th>998</th>\n",
              "      <td>1</td>\n",
              "      <td>0</td>\n",
              "      <td>0</td>\n",
              "    </tr>\n",
              "    <tr>\n",
              "      <th>999</th>\n",
              "      <td>0</td>\n",
              "      <td>0</td>\n",
              "      <td>1</td>\n",
              "    </tr>\n",
              "  </tbody>\n",
              "</table>\n",
              "<p>1000 rows × 3 columns</p>\n",
              "</div>\n",
              "      <button class=\"colab-df-convert\" onclick=\"convertToInteractive('df-3ee5be8d-27be-4364-a1be-dc7653620169')\"\n",
              "              title=\"Convert this dataframe to an interactive table.\"\n",
              "              style=\"display:none;\">\n",
              "        \n",
              "  <svg xmlns=\"http://www.w3.org/2000/svg\" height=\"24px\"viewBox=\"0 0 24 24\"\n",
              "       width=\"24px\">\n",
              "    <path d=\"M0 0h24v24H0V0z\" fill=\"none\"/>\n",
              "    <path d=\"M18.56 5.44l.94 2.06.94-2.06 2.06-.94-2.06-.94-.94-2.06-.94 2.06-2.06.94zm-11 1L8.5 8.5l.94-2.06 2.06-.94-2.06-.94L8.5 2.5l-.94 2.06-2.06.94zm10 10l.94 2.06.94-2.06 2.06-.94-2.06-.94-.94-2.06-.94 2.06-2.06.94z\"/><path d=\"M17.41 7.96l-1.37-1.37c-.4-.4-.92-.59-1.43-.59-.52 0-1.04.2-1.43.59L10.3 9.45l-7.72 7.72c-.78.78-.78 2.05 0 2.83L4 21.41c.39.39.9.59 1.41.59.51 0 1.02-.2 1.41-.59l7.78-7.78 2.81-2.81c.8-.78.8-2.07 0-2.86zM5.41 20L4 18.59l7.72-7.72 1.47 1.35L5.41 20z\"/>\n",
              "  </svg>\n",
              "      </button>\n",
              "      \n",
              "  <style>\n",
              "    .colab-df-container {\n",
              "      display:flex;\n",
              "      flex-wrap:wrap;\n",
              "      gap: 12px;\n",
              "    }\n",
              "\n",
              "    .colab-df-convert {\n",
              "      background-color: #E8F0FE;\n",
              "      border: none;\n",
              "      border-radius: 50%;\n",
              "      cursor: pointer;\n",
              "      display: none;\n",
              "      fill: #1967D2;\n",
              "      height: 32px;\n",
              "      padding: 0 0 0 0;\n",
              "      width: 32px;\n",
              "    }\n",
              "\n",
              "    .colab-df-convert:hover {\n",
              "      background-color: #E2EBFA;\n",
              "      box-shadow: 0px 1px 2px rgba(60, 64, 67, 0.3), 0px 1px 3px 1px rgba(60, 64, 67, 0.15);\n",
              "      fill: #174EA6;\n",
              "    }\n",
              "\n",
              "    [theme=dark] .colab-df-convert {\n",
              "      background-color: #3B4455;\n",
              "      fill: #D2E3FC;\n",
              "    }\n",
              "\n",
              "    [theme=dark] .colab-df-convert:hover {\n",
              "      background-color: #434B5C;\n",
              "      box-shadow: 0px 1px 3px 1px rgba(0, 0, 0, 0.15);\n",
              "      filter: drop-shadow(0px 1px 2px rgba(0, 0, 0, 0.3));\n",
              "      fill: #FFFFFF;\n",
              "    }\n",
              "  </style>\n",
              "\n",
              "      <script>\n",
              "        const buttonEl =\n",
              "          document.querySelector('#df-3ee5be8d-27be-4364-a1be-dc7653620169 button.colab-df-convert');\n",
              "        buttonEl.style.display =\n",
              "          google.colab.kernel.accessAllowed ? 'block' : 'none';\n",
              "\n",
              "        async function convertToInteractive(key) {\n",
              "          const element = document.querySelector('#df-3ee5be8d-27be-4364-a1be-dc7653620169');\n",
              "          const dataTable =\n",
              "            await google.colab.kernel.invokeFunction('convertToInteractive',\n",
              "                                                     [key], {});\n",
              "          if (!dataTable) return;\n",
              "\n",
              "          const docLinkHtml = 'Like what you see? Visit the ' +\n",
              "            '<a target=\"_blank\" href=https://colab.research.google.com/notebooks/data_table.ipynb>data table notebook</a>'\n",
              "            + ' to learn more about interactive tables.';\n",
              "          element.innerHTML = '';\n",
              "          dataTable['output_type'] = 'display_data';\n",
              "          await google.colab.output.renderOutput(dataTable, element);\n",
              "          const docLink = document.createElement('div');\n",
              "          docLink.innerHTML = docLinkHtml;\n",
              "          element.appendChild(docLink);\n",
              "        }\n",
              "      </script>\n",
              "    </div>\n",
              "  </div>\n",
              "  "
            ]
          },
          "metadata": {},
          "execution_count": 10
        }
      ],
      "source": [
        "print(one_hot.shape)\n",
        "\n",
        "one_hot"
      ]
    },
    {
      "cell_type": "markdown",
      "source": [
        "## Splitting the data into trainig and testing"
      ],
      "metadata": {
        "id": "55f7fiBYxkXI"
      }
    },
    {
      "cell_type": "code",
      "execution_count": 11,
      "metadata": {
        "colab": {
          "base_uri": "https://localhost:8080/"
        },
        "id": "gKl1F9RnC8jc",
        "outputId": "fffb94c9-5f34-4f24-c6ff-aae0b2aad719"
      },
      "outputs": [
        {
          "output_type": "stream",
          "name": "stdout",
          "text": [
            "[[  0   0   0 ... 181 222 253]\n",
            " [  0   0   0 ...  39  61  11]\n",
            " [  0   0   0 ...  29  93 388]\n",
            " ...\n",
            " [  0   0   0 ...   0   2   1]\n",
            " [  0   0   0 ...  54 425 160]\n",
            " [  0   0   0 ... 180 411 311]]\n",
            "     N  O  P\n",
            "40   0  0  1\n",
            "977  0  0  1\n",
            "829  0  0  1\n",
            "973  0  0  1\n",
            "874  1  0  0\n",
            "..  .. .. ..\n",
            "400  1  0  0\n",
            "118  0  0  1\n",
            "701  0  0  1\n",
            "206  0  0  1\n",
            "867  1  0  0\n",
            "\n",
            "[800 rows x 3 columns]\n",
            "(800, 92)\n",
            "(800, 3)\n"
          ]
        }
      ],
      "source": [
        "X_train, X_test, Y_train, Y_test = train_test_split(X, one_hot, test_size=0.2, random_state=5)\n",
        "\n",
        "print(X_train)\n",
        "print(Y_train)\n",
        "print(X_train.shape)\n",
        "print(Y_train.shape)"
      ]
    },
    {
      "cell_type": "markdown",
      "source": [
        "## Model Building"
      ],
      "metadata": {
        "id": "GGCrR-rpxuIw"
      }
    },
    {
      "cell_type": "code",
      "execution_count": 12,
      "metadata": {
        "colab": {
          "base_uri": "https://localhost:8080/"
        },
        "id": "4iBA5M26tszS",
        "outputId": "0678364f-3a99-42ff-d6f2-f1be628b778e"
      },
      "outputs": [
        {
          "output_type": "stream",
          "name": "stderr",
          "text": [
            "WARNING:tensorflow:Layer lstm will not use cuDNN kernels since it doesn't meet the criteria. It will use a generic GPU kernel as fallback when running on GPU.\n",
            "WARNING:tensorflow:Layer lstm_1 will not use cuDNN kernels since it doesn't meet the criteria. It will use a generic GPU kernel as fallback when running on GPU.\n"
          ]
        },
        {
          "output_type": "stream",
          "name": "stdout",
          "text": [
            "Model: \"sequential\"\n",
            "_________________________________________________________________\n",
            " Layer (type)                Output Shape              Param #   \n",
            "=================================================================\n",
            " embedding (Embedding)       (None, 92, 120)           60000     \n",
            "                                                                 \n",
            " spatial_dropout1d (SpatialD  (None, 92, 120)          0         \n",
            " ropout1D)                                                       \n",
            "                                                                 \n",
            " lstm (LSTM)                 (None, 92, 256)           386048    \n",
            "                                                                 \n",
            " lstm_1 (LSTM)               (None, 128)               197120    \n",
            "                                                                 \n",
            " dense (Dense)               (None, 64)                8256      \n",
            "                                                                 \n",
            " dropout (Dropout)           (None, 64)                0         \n",
            "                                                                 \n",
            " dense_1 (Dense)             (None, 3)                 195       \n",
            "                                                                 \n",
            "=================================================================\n",
            "Total params: 651,619\n",
            "Trainable params: 651,619\n",
            "Non-trainable params: 0\n",
            "_________________________________________________________________\n"
          ]
        }
      ],
      "source": [
        "# Create a sequential model\n",
        "model = Sequential()\n",
        "\n",
        "# Add an embedding layer with input size 500, output size 120, and input length equal to the number of columns in the X array\n",
        "model.add(Embedding(500, 120, input_length=X.shape[1]))\n",
        "\n",
        "# Add a 1D spatial dropout layer with a rate of 0.4\n",
        "model.add(SpatialDropout1D(0.4))\n",
        "\n",
        "# Add a LSTM layer with 256 units, dropout of 0.2, recurrent dropout of 0.2, and return sequences set to True\n",
        "model.add(LSTM(256, dropout=0.2, recurrent_dropout=0.2, return_sequences=True))\n",
        "\n",
        "# Add a second LSTM layer with 128 units, dropout of 0.2, and recurrent dropout of 0.2\n",
        "model.add(LSTM(128, dropout=0.2, recurrent_dropout=0.2))\n",
        "\n",
        "# Add a dense layer with 64 units and ReLU activation function\n",
        "model.add(Dense(64, activation='relu'))\n",
        "\n",
        "# Add a dropout layer with a rate of 0.4\n",
        "model.add(Dropout(0.4))\n",
        "\n",
        "# Add a dense layer with 3 units and softmax activation function\n",
        "model.add(Dense(3, activation='softmax'))\n",
        "\n",
        "# Use a custom optimizer with a learning rate of 0.001\n",
        "adam = Adam(learning_rate=0.001)\n",
        "\n",
        "# Compile the model with categorical crossentropy loss function, the custom optimizer, and accuracy metric\n",
        "model.compile(loss='categorical_crossentropy', optimizer=adam, metrics=['accuracy'])\n",
        "\n",
        "model.summary()"
      ]
    },
    {
      "cell_type": "markdown",
      "source": [
        "## Model Training"
      ],
      "metadata": {
        "id": "Wa6h4wIeDE_j"
      }
    },
    {
      "cell_type": "code",
      "execution_count": 13,
      "metadata": {
        "colab": {
          "base_uri": "https://localhost:8080/"
        },
        "id": "XFYQF5rotyCD",
        "outputId": "d56333a8-751c-4a80-aa99-c8486fbd2dff"
      },
      "outputs": [
        {
          "output_type": "stream",
          "name": "stdout",
          "text": [
            "Fold number 0\n",
            "Epoch 1/10\n",
            "20/20 [==============================] - 21s 808ms/step - loss: 0.9267 - accuracy: 0.5891 - val_loss: 0.6673 - val_accuracy: 0.7312\n",
            "Epoch 2/10\n",
            "20/20 [==============================] - 8s 391ms/step - loss: 0.8850 - accuracy: 0.6094 - val_loss: 0.7171 - val_accuracy: 0.7312\n",
            "Epoch 3/10\n",
            "20/20 [==============================] - 8s 395ms/step - loss: 0.8599 - accuracy: 0.6203 - val_loss: 0.7321 - val_accuracy: 0.7312\n",
            "Epoch 4/10\n",
            "20/20 [==============================] - 7s 348ms/step - loss: 0.7640 - accuracy: 0.6547 - val_loss: 0.5369 - val_accuracy: 0.7437\n",
            "Epoch 5/10\n",
            "20/20 [==============================] - 8s 397ms/step - loss: 0.5950 - accuracy: 0.7469 - val_loss: 0.4789 - val_accuracy: 0.8188\n",
            "Epoch 6/10\n",
            "20/20 [==============================] - 7s 346ms/step - loss: 0.4480 - accuracy: 0.8391 - val_loss: 0.5313 - val_accuracy: 0.8000\n",
            "Epoch 7/10\n",
            "20/20 [==============================] - 8s 402ms/step - loss: 0.3641 - accuracy: 0.8766 - val_loss: 0.5284 - val_accuracy: 0.8125\n",
            "Epoch 8/10\n",
            "20/20 [==============================] - 8s 404ms/step - loss: 0.2608 - accuracy: 0.9203 - val_loss: 0.6655 - val_accuracy: 0.7688\n",
            "Epoch 9/10\n",
            "20/20 [==============================] - 7s 362ms/step - loss: 0.2163 - accuracy: 0.9328 - val_loss: 0.8179 - val_accuracy: 0.7750\n",
            "Epoch 10/10\n",
            "20/20 [==============================] - 9s 465ms/step - loss: 0.1914 - accuracy: 0.9406 - val_loss: 0.7059 - val_accuracy: 0.7875\n",
            "\n",
            "Fold number 1\n",
            "Epoch 1/10\n",
            "20/20 [==============================] - 7s 357ms/step - loss: 0.3060 - accuracy: 0.8969 - val_loss: 0.2490 - val_accuracy: 0.9187\n",
            "Epoch 2/10\n",
            "20/20 [==============================] - 8s 395ms/step - loss: 0.2799 - accuracy: 0.9203 - val_loss: 0.1966 - val_accuracy: 0.9375\n",
            "Epoch 3/10\n",
            "20/20 [==============================] - 8s 388ms/step - loss: 0.2159 - accuracy: 0.9297 - val_loss: 0.1809 - val_accuracy: 0.9438\n",
            "Epoch 4/10\n",
            "20/20 [==============================] - 7s 357ms/step - loss: 0.1692 - accuracy: 0.9484 - val_loss: 0.2448 - val_accuracy: 0.8813\n",
            "Epoch 5/10\n",
            "20/20 [==============================] - 8s 393ms/step - loss: 0.1411 - accuracy: 0.9516 - val_loss: 0.2445 - val_accuracy: 0.9000\n",
            "Epoch 6/10\n",
            "20/20 [==============================] - 7s 343ms/step - loss: 0.1099 - accuracy: 0.9672 - val_loss: 0.3303 - val_accuracy: 0.9000\n",
            "Epoch 7/10\n",
            "20/20 [==============================] - 8s 401ms/step - loss: 0.1034 - accuracy: 0.9688 - val_loss: 0.3603 - val_accuracy: 0.8938\n",
            "Epoch 8/10\n",
            "20/20 [==============================] - 8s 406ms/step - loss: 0.0812 - accuracy: 0.9750 - val_loss: 0.3606 - val_accuracy: 0.8938\n",
            "Epoch 9/10\n",
            "20/20 [==============================] - 7s 353ms/step - loss: 0.0861 - accuracy: 0.9750 - val_loss: 0.3740 - val_accuracy: 0.8750\n",
            "Epoch 10/10\n",
            "20/20 [==============================] - 8s 393ms/step - loss: 0.0851 - accuracy: 0.9703 - val_loss: 0.4441 - val_accuracy: 0.8500\n",
            "\n",
            "Fold number 2\n",
            "Epoch 1/10\n",
            "20/20 [==============================] - 8s 397ms/step - loss: 0.1944 - accuracy: 0.9312 - val_loss: 0.0583 - val_accuracy: 0.9875\n",
            "Epoch 2/10\n",
            "20/20 [==============================] - 8s 392ms/step - loss: 0.1298 - accuracy: 0.9656 - val_loss: 0.0864 - val_accuracy: 0.9688\n",
            "Epoch 3/10\n",
            "20/20 [==============================] - 7s 345ms/step - loss: 0.0997 - accuracy: 0.9688 - val_loss: 0.0898 - val_accuracy: 0.9688\n",
            "Epoch 4/10\n",
            "20/20 [==============================] - 8s 396ms/step - loss: 0.0987 - accuracy: 0.9672 - val_loss: 0.1076 - val_accuracy: 0.9563\n",
            "Epoch 5/10\n",
            "20/20 [==============================] - 7s 375ms/step - loss: 0.0703 - accuracy: 0.9703 - val_loss: 0.1324 - val_accuracy: 0.9500\n",
            "Epoch 6/10\n",
            "20/20 [==============================] - 8s 372ms/step - loss: 0.0618 - accuracy: 0.9797 - val_loss: 0.1460 - val_accuracy: 0.9312\n",
            "Epoch 7/10\n",
            "20/20 [==============================] - 8s 393ms/step - loss: 0.0673 - accuracy: 0.9781 - val_loss: 0.1614 - val_accuracy: 0.9312\n",
            "Epoch 8/10\n",
            "20/20 [==============================] - 7s 350ms/step - loss: 0.0631 - accuracy: 0.9750 - val_loss: 0.1495 - val_accuracy: 0.9312\n",
            "Epoch 9/10\n",
            "20/20 [==============================] - 8s 404ms/step - loss: 0.0701 - accuracy: 0.9734 - val_loss: 0.1949 - val_accuracy: 0.9312\n",
            "Epoch 10/10\n",
            "20/20 [==============================] - 8s 380ms/step - loss: 0.0688 - accuracy: 0.9734 - val_loss: 0.2187 - val_accuracy: 0.9187\n",
            "\n",
            "Fold number 3\n",
            "Epoch 1/10\n",
            "20/20 [==============================] - 8s 387ms/step - loss: 0.1295 - accuracy: 0.9625 - val_loss: 0.0436 - val_accuracy: 0.9812\n",
            "Epoch 2/10\n",
            "20/20 [==============================] - 7s 355ms/step - loss: 0.0891 - accuracy: 0.9750 - val_loss: 0.0454 - val_accuracy: 0.9812\n",
            "Epoch 3/10\n",
            "20/20 [==============================] - 8s 399ms/step - loss: 0.0683 - accuracy: 0.9781 - val_loss: 0.0464 - val_accuracy: 0.9812\n",
            "Epoch 4/10\n",
            "20/20 [==============================] - 7s 360ms/step - loss: 0.0453 - accuracy: 0.9859 - val_loss: 0.0564 - val_accuracy: 0.9812\n",
            "Epoch 5/10\n",
            "20/20 [==============================] - 8s 371ms/step - loss: 0.0495 - accuracy: 0.9844 - val_loss: 0.0566 - val_accuracy: 0.9750\n",
            "Epoch 6/10\n",
            "20/20 [==============================] - 9s 435ms/step - loss: 0.0371 - accuracy: 0.9891 - val_loss: 0.0469 - val_accuracy: 0.9750\n",
            "Epoch 7/10\n",
            "20/20 [==============================] - 7s 365ms/step - loss: 0.0383 - accuracy: 0.9875 - val_loss: 0.0590 - val_accuracy: 0.9812\n",
            "Epoch 8/10\n",
            "20/20 [==============================] - 8s 418ms/step - loss: 0.0360 - accuracy: 0.9891 - val_loss: 0.0575 - val_accuracy: 0.9688\n",
            "Epoch 9/10\n",
            "20/20 [==============================] - 8s 415ms/step - loss: 0.0367 - accuracy: 0.9859 - val_loss: 0.0638 - val_accuracy: 0.9750\n",
            "Epoch 10/10\n",
            "20/20 [==============================] - 8s 379ms/step - loss: 0.0389 - accuracy: 0.9859 - val_loss: 0.0742 - val_accuracy: 0.9688\n",
            "\n",
            "Fold number 4\n",
            "Epoch 1/10\n",
            "20/20 [==============================] - 7s 355ms/step - loss: 0.0671 - accuracy: 0.9812 - val_loss: 0.0346 - val_accuracy: 0.9875\n",
            "Epoch 2/10\n",
            "20/20 [==============================] - 8s 401ms/step - loss: 0.0462 - accuracy: 0.9844 - val_loss: 0.0363 - val_accuracy: 0.9875\n",
            "Epoch 3/10\n",
            "20/20 [==============================] - 8s 399ms/step - loss: 0.0559 - accuracy: 0.9766 - val_loss: 0.0422 - val_accuracy: 0.9812\n",
            "Epoch 4/10\n",
            "20/20 [==============================] - 7s 355ms/step - loss: 0.0512 - accuracy: 0.9828 - val_loss: 0.0348 - val_accuracy: 0.9812\n",
            "Epoch 5/10\n",
            "20/20 [==============================] - 8s 400ms/step - loss: 0.0481 - accuracy: 0.9844 - val_loss: 0.0423 - val_accuracy: 0.9812\n",
            "Epoch 6/10\n",
            "20/20 [==============================] - 7s 357ms/step - loss: 0.0435 - accuracy: 0.9859 - val_loss: 0.0699 - val_accuracy: 0.9688\n",
            "Epoch 7/10\n",
            "20/20 [==============================] - 8s 393ms/step - loss: 0.0351 - accuracy: 0.9891 - val_loss: 0.0729 - val_accuracy: 0.9750\n",
            "Epoch 8/10\n",
            "20/20 [==============================] - 8s 407ms/step - loss: 0.0748 - accuracy: 0.9812 - val_loss: 0.0615 - val_accuracy: 0.9812\n",
            "Epoch 9/10\n",
            "20/20 [==============================] - 7s 358ms/step - loss: 0.0618 - accuracy: 0.9812 - val_loss: 0.0746 - val_accuracy: 0.9750\n",
            "Epoch 10/10\n",
            "20/20 [==============================] - 8s 394ms/step - loss: 0.0353 - accuracy: 0.9906 - val_loss: 0.0653 - val_accuracy: 0.9688\n",
            "\n"
          ]
        }
      ],
      "source": [
        "# Use k-fold cross-validation\n",
        "kf = KFold(n_splits=5, shuffle=True)\n",
        "cnt = 0\n",
        "for train_index, val_index in kf.split(X_train):\n",
        "  print(f'Fold number {cnt}')\n",
        "  cnt+=1\n",
        "  X_fold_train, X_fold_val = X_train[train_index], X_train[val_index]\n",
        "  y_fold_train, y_fold_val = Y_train.values[train_index], Y_train.values[val_index]\n",
        "  model.fit(X_fold_train, y_fold_train, epochs=10, batch_size=32, validation_data=(X_fold_val, y_fold_val), verbose=1)\n",
        "  print()"
      ]
    },
    {
      "cell_type": "markdown",
      "source": [
        "## Model evaluation"
      ],
      "metadata": {
        "id": "3ySW65x2C-yF"
      }
    },
    {
      "cell_type": "code",
      "execution_count": 14,
      "metadata": {
        "colab": {
          "base_uri": "https://localhost:8080/"
        },
        "id": "1g6WG-fety9o",
        "outputId": "765d08cb-0b67-4194-ce0a-2e2bb99bc4aa"
      },
      "outputs": [
        {
          "output_type": "stream",
          "name": "stdout",
          "text": [
            "25/25 [==============================] - 1s 59ms/step - loss: 0.0292 - accuracy: 0.9887\n",
            "7/7 [==============================] - 1s 58ms/step - loss: 1.9540 - accuracy: 0.7350\n"
          ]
        },
        {
          "output_type": "execute_result",
          "data": {
            "text/plain": [
              "[1.9540480375289917, 0.7350000143051147]"
            ]
          },
          "metadata": {},
          "execution_count": 14
        }
      ],
      "source": [
        "model.evaluate(X_train, Y_train)\n",
        "model.evaluate(X_test, Y_test)"
      ]
    }
  ],
  "metadata": {
    "accelerator": "GPU",
    "colab": {
      "provenance": [],
      "authorship_tag": "ABX9TyOo7udBD0KaBTIunLp5/AUt",
      "include_colab_link": true
    },
    "gpuClass": "standard",
    "kernelspec": {
      "display_name": "Python 3",
      "name": "python3"
    },
    "language_info": {
      "name": "python"
    }
  },
  "nbformat": 4,
  "nbformat_minor": 0
}